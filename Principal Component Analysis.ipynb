{
 "cells": [
  {
   "cell_type": "code",
   "execution_count": 63,
   "metadata": {},
   "outputs": [],
   "source": [
    "import os\n",
    "import pandas as pd\n",
    "import numpy as np\n",
    "import matplotlib.pyplot as plt\n",
    "import seaborn as sns\n",
    "from scipy import stats\n",
    "from sklearn.model_selection import train_test_split\n",
    "from sklearn.preprocessing import StandardScaler\n",
    "from sklearn import linear_model\n",
    "from sklearn.metrics import mean_squared_error"
   ]
  },
  {
   "cell_type": "code",
   "execution_count": 2,
   "metadata": {},
   "outputs": [
    {
     "data": {
      "text/html": [
       "<div>\n",
       "<style scoped>\n",
       "    .dataframe tbody tr th:only-of-type {\n",
       "        vertical-align: middle;\n",
       "    }\n",
       "\n",
       "    .dataframe tbody tr th {\n",
       "        vertical-align: top;\n",
       "    }\n",
       "\n",
       "    .dataframe thead th {\n",
       "        text-align: right;\n",
       "    }\n",
       "</style>\n",
       "<table border=\"1\" class=\"dataframe\">\n",
       "  <thead>\n",
       "    <tr style=\"text-align: right;\">\n",
       "      <th></th>\n",
       "      <th>cnty_fips</th>\n",
       "      <th>county</th>\n",
       "      <th>state</th>\n",
       "      <th>cardiac_intensive_care_units</th>\n",
       "      <th>cardiac_rehab_eligibility</th>\n",
       "      <th>cardiac_rehab_sessions</th>\n",
       "      <th>cardiac_rehab_particpation</th>\n",
       "      <th>cardiac_rehab_units</th>\n",
       "      <th>cholesterol_screen</th>\n",
       "      <th>cholesterol_medication</th>\n",
       "      <th>...</th>\n",
       "      <th>population_black</th>\n",
       "      <th>population_hispanic</th>\n",
       "      <th>population_total</th>\n",
       "      <th>population_white</th>\n",
       "      <th>income_inequality</th>\n",
       "      <th>median_houshld_income</th>\n",
       "      <th>park_access</th>\n",
       "      <th>poverty_rate</th>\n",
       "      <th>unemployment_rate</th>\n",
       "      <th>urban_rural_class</th>\n",
       "    </tr>\n",
       "  </thead>\n",
       "  <tbody>\n",
       "    <tr>\n",
       "      <th>0</th>\n",
       "      <td>2020</td>\n",
       "      <td>Anchorage</td>\n",
       "      <td>AK</td>\n",
       "      <td>1.0</td>\n",
       "      <td>13.5</td>\n",
       "      <td>23.6</td>\n",
       "      <td>24.3</td>\n",
       "      <td>1.0</td>\n",
       "      <td>72.5</td>\n",
       "      <td>18.7</td>\n",
       "      <td>...</td>\n",
       "      <td>5.2</td>\n",
       "      <td>9.1</td>\n",
       "      <td>293531.0</td>\n",
       "      <td>57.9</td>\n",
       "      <td>0.430</td>\n",
       "      <td>0.430</td>\n",
       "      <td>83.0</td>\n",
       "      <td>9.5</td>\n",
       "      <td>4.4</td>\n",
       "      <td>3.0</td>\n",
       "    </tr>\n",
       "    <tr>\n",
       "      <th>1</th>\n",
       "      <td>2090</td>\n",
       "      <td>Fairbanks North Star</td>\n",
       "      <td>AK</td>\n",
       "      <td>1.0</td>\n",
       "      <td>13.0</td>\n",
       "      <td>29.6</td>\n",
       "      <td>33.6</td>\n",
       "      <td>1.0</td>\n",
       "      <td>70.8</td>\n",
       "      <td>17.1</td>\n",
       "      <td>...</td>\n",
       "      <td>4.2</td>\n",
       "      <td>8.0</td>\n",
       "      <td>99072.0</td>\n",
       "      <td>69.9</td>\n",
       "      <td>0.409</td>\n",
       "      <td>0.409</td>\n",
       "      <td>36.0</td>\n",
       "      <td>7.2</td>\n",
       "      <td>4.7</td>\n",
       "      <td>3.0</td>\n",
       "    </tr>\n",
       "    <tr>\n",
       "      <th>2</th>\n",
       "      <td>2122</td>\n",
       "      <td>Kenai Peninsula</td>\n",
       "      <td>AK</td>\n",
       "      <td>0.0</td>\n",
       "      <td>15.3</td>\n",
       "      <td>25.7</td>\n",
       "      <td>33.6</td>\n",
       "      <td>1.0</td>\n",
       "      <td>75.4</td>\n",
       "      <td>18.8</td>\n",
       "      <td>...</td>\n",
       "      <td>0.5</td>\n",
       "      <td>4.1</td>\n",
       "      <td>58464.0</td>\n",
       "      <td>79.9</td>\n",
       "      <td>0.439</td>\n",
       "      <td>0.439</td>\n",
       "      <td>52.0</td>\n",
       "      <td>10.4</td>\n",
       "      <td>6.0</td>\n",
       "      <td>4.0</td>\n",
       "    </tr>\n",
       "    <tr>\n",
       "      <th>3</th>\n",
       "      <td>2170</td>\n",
       "      <td>Matanuska-Susitna</td>\n",
       "      <td>AK</td>\n",
       "      <td>0.0</td>\n",
       "      <td>15.3</td>\n",
       "      <td>24.1</td>\n",
       "      <td>22.7</td>\n",
       "      <td>0.0</td>\n",
       "      <td>72.3</td>\n",
       "      <td>17.6</td>\n",
       "      <td>...</td>\n",
       "      <td>1.1</td>\n",
       "      <td>4.9</td>\n",
       "      <td>105369.0</td>\n",
       "      <td>79.2</td>\n",
       "      <td>0.422</td>\n",
       "      <td>0.422</td>\n",
       "      <td>26.0</td>\n",
       "      <td>9.6</td>\n",
       "      <td>6.1</td>\n",
       "      <td>3.0</td>\n",
       "    </tr>\n",
       "    <tr>\n",
       "      <th>4</th>\n",
       "      <td>6001</td>\n",
       "      <td>Alameda</td>\n",
       "      <td>CA</td>\n",
       "      <td>3.0</td>\n",
       "      <td>10.6</td>\n",
       "      <td>26.2</td>\n",
       "      <td>23.6</td>\n",
       "      <td>6.0</td>\n",
       "      <td>80.8</td>\n",
       "      <td>13.8</td>\n",
       "      <td>...</td>\n",
       "      <td>10.3</td>\n",
       "      <td>22.3</td>\n",
       "      <td>1656754.0</td>\n",
       "      <td>31.4</td>\n",
       "      <td>0.462</td>\n",
       "      <td>0.462</td>\n",
       "      <td>84.0</td>\n",
       "      <td>8.9</td>\n",
       "      <td>3.0</td>\n",
       "      <td>1.0</td>\n",
       "    </tr>\n",
       "  </tbody>\n",
       "</table>\n",
       "<p>5 rows × 37 columns</p>\n",
       "</div>"
      ],
      "text/plain": [
       "   cnty_fips                county state  cardiac_intensive_care_units  \\\n",
       "0       2020             Anchorage    AK                           1.0   \n",
       "1       2090  Fairbanks North Star    AK                           1.0   \n",
       "2       2122       Kenai Peninsula    AK                           0.0   \n",
       "3       2170     Matanuska-Susitna    AK                           0.0   \n",
       "4       6001               Alameda    CA                           3.0   \n",
       "\n",
       "   cardiac_rehab_eligibility  cardiac_rehab_sessions  \\\n",
       "0                       13.5                    23.6   \n",
       "1                       13.0                    29.6   \n",
       "2                       15.3                    25.7   \n",
       "3                       15.3                    24.1   \n",
       "4                       10.6                    26.2   \n",
       "\n",
       "   cardiac_rehab_particpation  cardiac_rehab_units  cholesterol_screen  \\\n",
       "0                        24.3                  1.0                72.5   \n",
       "1                        33.6                  1.0                70.8   \n",
       "2                        33.6                  1.0                75.4   \n",
       "3                        22.7                  0.0                72.3   \n",
       "4                        23.6                  6.0                80.8   \n",
       "\n",
       "   cholesterol_medication  ...  population_black  population_hispanic  \\\n",
       "0                    18.7  ...               5.2                  9.1   \n",
       "1                    17.1  ...               4.2                  8.0   \n",
       "2                    18.8  ...               0.5                  4.1   \n",
       "3                    17.6  ...               1.1                  4.9   \n",
       "4                    13.8  ...              10.3                 22.3   \n",
       "\n",
       "   population_total  population_white  income_inequality  \\\n",
       "0          293531.0              57.9              0.430   \n",
       "1           99072.0              69.9              0.409   \n",
       "2           58464.0              79.9              0.439   \n",
       "3          105369.0              79.2              0.422   \n",
       "4         1656754.0              31.4              0.462   \n",
       "\n",
       "   median_houshld_income  park_access  poverty_rate  unemployment_rate  \\\n",
       "0                  0.430         83.0           9.5                4.4   \n",
       "1                  0.409         36.0           7.2                4.7   \n",
       "2                  0.439         52.0          10.4                6.0   \n",
       "3                  0.422         26.0           9.6                6.1   \n",
       "4                  0.462         84.0           8.9                3.0   \n",
       "\n",
       "   urban_rural_class  \n",
       "0                3.0  \n",
       "1                3.0  \n",
       "2                4.0  \n",
       "3                3.0  \n",
       "4                1.0  \n",
       "\n",
       "[5 rows x 37 columns]"
      ]
     },
     "execution_count": 2,
     "metadata": {},
     "output_type": "execute_result"
    }
   ],
   "source": [
    "df = pd.read_csv(\"cdc_clean_carefully_dropped_missing.csv\")\n",
    "df.head()"
   ]
  },
  {
   "cell_type": "markdown",
   "metadata": {},
   "source": [
    "Selecting variables of interest for EDA"
   ]
  },
  {
   "cell_type": "code",
   "execution_count": 3,
   "metadata": {},
   "outputs": [],
   "source": [
    "df = df[[\"prevalence\", \"cholesterol_awareness\", \"diagnosed_diabetes\", \"obesity\",  \"leisure_inactivity\", \"smoking\", \\\n",
    "        \"cardiac_rehab_eligibility\", \"cholesterol_medication\", \"cholesterol_screen\", \"cardiac_rehab_sessions\", \\\n",
    "         \"cardiac_rehab_particpation\", \"cardiac_rehab_units\", \"total_healthcare_cost_per_capita\", \\\n",
    "         \"air_quality\", \"park_access\", \"population_age_65_plus\", \"population_total\", \"urban_rural_class\", \\\n",
    "         \"median_houshld_income\", \"poverty_rate\"]]"
   ]
  },
  {
   "cell_type": "markdown",
   "metadata": {},
   "source": [
    "**Split the data into test and train sets**"
   ]
  },
  {
   "cell_type": "code",
   "execution_count": 49,
   "metadata": {},
   "outputs": [],
   "source": [
    "X = df.drop(\"prevalence\", axis = 1)\n",
    "y = df[\"prevalence\"]\n",
    "X_train, X_test, y_train, y_test = train_test_split(X, y, test_size=0.2, random_state=42)"
   ]
  },
  {
   "cell_type": "code",
   "execution_count": 18,
   "metadata": {},
   "outputs": [],
   "source": [
    "#### Normalize the training set.\n",
    "\n",
    "def scaler_function(data):\n",
    "  \n",
    "    #Sclaing our data for the univariate mode\n",
    "    scaler = StandardScaler()\n",
    "    scaler.fit(data)\n",
    "    data = scaler.transform(data)\n",
    "  \n",
    "    return data\n",
    "\n",
    "X_train_scaled = scaler_function(X_train)\n",
    "X_test_scaled = scaler_function(X_test)\n",
    "# y_train_scaled = scaler_function(pd.DataFrame(y_train))\n",
    "# y_test_scaled = scaler_function(pd.DataFrame(y_test))"
   ]
  },
  {
   "cell_type": "markdown",
   "metadata": {},
   "source": [
    "**Dimensionality Reduction with Principal Components Analysis**"
   ]
  },
  {
   "cell_type": "markdown",
   "metadata": {},
   "source": [
    "Reference https://towardsdatascience.com/principal-component-analysis-pca-with-scikit-learn-1e84a0c731b0"
   ]
  },
  {
   "cell_type": "code",
   "execution_count": 19,
   "metadata": {},
   "outputs": [],
   "source": [
    "from sklearn.decomposition import PCA"
   ]
  },
  {
   "cell_type": "code",
   "execution_count": 20,
   "metadata": {},
   "outputs": [
    {
     "name": "stdout",
     "output_type": "stream",
     "text": [
      "percent variance explained by principal components:\n"
     ]
    },
    {
     "data": {
      "text/html": [
       "<div>\n",
       "<style scoped>\n",
       "    .dataframe tbody tr th:only-of-type {\n",
       "        vertical-align: middle;\n",
       "    }\n",
       "\n",
       "    .dataframe tbody tr th {\n",
       "        vertical-align: top;\n",
       "    }\n",
       "\n",
       "    .dataframe thead th {\n",
       "        text-align: right;\n",
       "    }\n",
       "</style>\n",
       "<table border=\"1\" class=\"dataframe\">\n",
       "  <thead>\n",
       "    <tr style=\"text-align: right;\">\n",
       "      <th></th>\n",
       "      <th>percent explained variance</th>\n",
       "    </tr>\n",
       "  </thead>\n",
       "  <tbody>\n",
       "    <tr>\n",
       "      <th>PC1</th>\n",
       "      <td>27.303296</td>\n",
       "    </tr>\n",
       "    <tr>\n",
       "      <th>PC2</th>\n",
       "      <td>15.731304</td>\n",
       "    </tr>\n",
       "    <tr>\n",
       "      <th>PC3</th>\n",
       "      <td>9.326657</td>\n",
       "    </tr>\n",
       "    <tr>\n",
       "      <th>PC4</th>\n",
       "      <td>7.733268</td>\n",
       "    </tr>\n",
       "    <tr>\n",
       "      <th>PC5</th>\n",
       "      <td>5.811532</td>\n",
       "    </tr>\n",
       "    <tr>\n",
       "      <th>PC6</th>\n",
       "      <td>5.344981</td>\n",
       "    </tr>\n",
       "    <tr>\n",
       "      <th>PC7</th>\n",
       "      <td>4.668847</td>\n",
       "    </tr>\n",
       "    <tr>\n",
       "      <th>PC8</th>\n",
       "      <td>3.960581</td>\n",
       "    </tr>\n",
       "    <tr>\n",
       "      <th>PC9</th>\n",
       "      <td>3.436981</td>\n",
       "    </tr>\n",
       "    <tr>\n",
       "      <th>PC10</th>\n",
       "      <td>2.734057</td>\n",
       "    </tr>\n",
       "    <tr>\n",
       "      <th>PC11</th>\n",
       "      <td>2.321666</td>\n",
       "    </tr>\n",
       "    <tr>\n",
       "      <th>PC12</th>\n",
       "      <td>2.226600</td>\n",
       "    </tr>\n",
       "    <tr>\n",
       "      <th>PC13</th>\n",
       "      <td>1.975374</td>\n",
       "    </tr>\n",
       "    <tr>\n",
       "      <th>PC14</th>\n",
       "      <td>1.806317</td>\n",
       "    </tr>\n",
       "    <tr>\n",
       "      <th>PC15</th>\n",
       "      <td>1.747824</td>\n",
       "    </tr>\n",
       "    <tr>\n",
       "      <th>PC16</th>\n",
       "      <td>1.507503</td>\n",
       "    </tr>\n",
       "    <tr>\n",
       "      <th>PC17</th>\n",
       "      <td>0.964908</td>\n",
       "    </tr>\n",
       "    <tr>\n",
       "      <th>PC18</th>\n",
       "      <td>0.773548</td>\n",
       "    </tr>\n",
       "    <tr>\n",
       "      <th>PC19</th>\n",
       "      <td>0.624757</td>\n",
       "    </tr>\n",
       "  </tbody>\n",
       "</table>\n",
       "</div>"
      ],
      "text/plain": [
       "      percent explained variance\n",
       "PC1                    27.303296\n",
       "PC2                    15.731304\n",
       "PC3                     9.326657\n",
       "PC4                     7.733268\n",
       "PC5                     5.811532\n",
       "PC6                     5.344981\n",
       "PC7                     4.668847\n",
       "PC8                     3.960581\n",
       "PC9                     3.436981\n",
       "PC10                    2.734057\n",
       "PC11                    2.321666\n",
       "PC12                    2.226600\n",
       "PC13                    1.975374\n",
       "PC14                    1.806317\n",
       "PC15                    1.747824\n",
       "PC16                    1.507503\n",
       "PC17                    0.964908\n",
       "PC18                    0.773548\n",
       "PC19                    0.624757"
      ]
     },
     "execution_count": 20,
     "metadata": {},
     "output_type": "execute_result"
    }
   ],
   "source": [
    "n_cols = X_train.shape[1]\n",
    "pca = PCA(n_components = n_cols, random_state = 42)\n",
    "pca.fit(X_train_scaled)\n",
    "print(\"percent variance explained by principal components:\")\n",
    "pca.explained_variance_ratio_ * 100\n",
    "# check  (uncommnet to confirm that the sum of percentage variance explained by all the principal components is 100%)\n",
    "#sum(pca_5.explained_variance_ratio_* 100)\n",
    "pd.DataFrame((pca.explained_variance_ratio_  *100), columns = [\"percent explained variance\"], \\\n",
    "             index = [\"PC\" + str(i+1) for i in range(n_cols )])"
   ]
  },
  {
   "cell_type": "code",
   "execution_count": 21,
   "metadata": {},
   "outputs": [
    {
     "name": "stdout",
     "output_type": "stream",
     "text": [
      "cumulative sum of principal components:\n"
     ]
    },
    {
     "data": {
      "text/html": [
       "<div>\n",
       "<style scoped>\n",
       "    .dataframe tbody tr th:only-of-type {\n",
       "        vertical-align: middle;\n",
       "    }\n",
       "\n",
       "    .dataframe tbody tr th {\n",
       "        vertical-align: top;\n",
       "    }\n",
       "\n",
       "    .dataframe thead th {\n",
       "        text-align: right;\n",
       "    }\n",
       "</style>\n",
       "<table border=\"1\" class=\"dataframe\">\n",
       "  <thead>\n",
       "    <tr style=\"text-align: right;\">\n",
       "      <th></th>\n",
       "      <th>cumulative percent variance explained</th>\n",
       "    </tr>\n",
       "  </thead>\n",
       "  <tbody>\n",
       "    <tr>\n",
       "      <th>PC1</th>\n",
       "      <td>27.303296</td>\n",
       "    </tr>\n",
       "    <tr>\n",
       "      <th>PC2</th>\n",
       "      <td>43.034601</td>\n",
       "    </tr>\n",
       "    <tr>\n",
       "      <th>PC3</th>\n",
       "      <td>52.361257</td>\n",
       "    </tr>\n",
       "    <tr>\n",
       "      <th>PC4</th>\n",
       "      <td>60.094525</td>\n",
       "    </tr>\n",
       "    <tr>\n",
       "      <th>PC5</th>\n",
       "      <td>65.906057</td>\n",
       "    </tr>\n",
       "    <tr>\n",
       "      <th>PC6</th>\n",
       "      <td>71.251038</td>\n",
       "    </tr>\n",
       "    <tr>\n",
       "      <th>PC7</th>\n",
       "      <td>75.919885</td>\n",
       "    </tr>\n",
       "    <tr>\n",
       "      <th>PC8</th>\n",
       "      <td>79.880466</td>\n",
       "    </tr>\n",
       "    <tr>\n",
       "      <th>PC9</th>\n",
       "      <td>83.317447</td>\n",
       "    </tr>\n",
       "    <tr>\n",
       "      <th>PC10</th>\n",
       "      <td>86.051504</td>\n",
       "    </tr>\n",
       "    <tr>\n",
       "      <th>PC11</th>\n",
       "      <td>88.373171</td>\n",
       "    </tr>\n",
       "    <tr>\n",
       "      <th>PC12</th>\n",
       "      <td>90.599771</td>\n",
       "    </tr>\n",
       "    <tr>\n",
       "      <th>PC13</th>\n",
       "      <td>92.575144</td>\n",
       "    </tr>\n",
       "    <tr>\n",
       "      <th>PC14</th>\n",
       "      <td>94.381461</td>\n",
       "    </tr>\n",
       "    <tr>\n",
       "      <th>PC15</th>\n",
       "      <td>96.129285</td>\n",
       "    </tr>\n",
       "    <tr>\n",
       "      <th>PC16</th>\n",
       "      <td>97.636787</td>\n",
       "    </tr>\n",
       "    <tr>\n",
       "      <th>PC17</th>\n",
       "      <td>98.601695</td>\n",
       "    </tr>\n",
       "    <tr>\n",
       "      <th>PC18</th>\n",
       "      <td>99.375243</td>\n",
       "    </tr>\n",
       "    <tr>\n",
       "      <th>PC19</th>\n",
       "      <td>100.000000</td>\n",
       "    </tr>\n",
       "  </tbody>\n",
       "</table>\n",
       "</div>"
      ],
      "text/plain": [
       "      cumulative percent variance explained\n",
       "PC1                               27.303296\n",
       "PC2                               43.034601\n",
       "PC3                               52.361257\n",
       "PC4                               60.094525\n",
       "PC5                               65.906057\n",
       "PC6                               71.251038\n",
       "PC7                               75.919885\n",
       "PC8                               79.880466\n",
       "PC9                               83.317447\n",
       "PC10                              86.051504\n",
       "PC11                              88.373171\n",
       "PC12                              90.599771\n",
       "PC13                              92.575144\n",
       "PC14                              94.381461\n",
       "PC15                              96.129285\n",
       "PC16                              97.636787\n",
       "PC17                              98.601695\n",
       "PC18                              99.375243\n",
       "PC19                             100.000000"
      ]
     },
     "execution_count": 21,
     "metadata": {},
     "output_type": "execute_result"
    }
   ],
   "source": [
    "print(\"cumulative sum of principal components:\")\n",
    "np.cumsum(pca.explained_variance_ratio_ * 100)\n",
    "pd.DataFrame(np.cumsum(pca.explained_variance_ratio_ * 100), columns = [\"cumulative percent variance explained\"], \\\n",
    "             index = [\"PC\" + str(i+1) for i in range(n_cols )])"
   ]
  },
  {
   "cell_type": "markdown",
   "metadata": {},
   "source": [
    "We see from the above table that 12  Principal Components account for 90 percent of the varaiations in the data. While this is not much of  reduction of the dimensions, we will fit a linear regression model with the first 12 principal components and evaluate the performance in comparison with the regular and lasso models."
   ]
  },
  {
   "cell_type": "code",
   "execution_count": null,
   "metadata": {},
   "outputs": [],
   "source": []
  },
  {
   "cell_type": "code",
   "execution_count": 22,
   "metadata": {},
   "outputs": [
    {
     "data": {
      "text/plain": [
       "Text(0, 0.5, 'Explained variance')"
      ]
     },
     "execution_count": 22,
     "metadata": {},
     "output_type": "execute_result"
    },
    {
     "data": {
      "image/png": "[encoded data removed]",
      "text/plain": [
       "<Figure size 432x288 with 1 Axes>"
      ]
     },
     "metadata": {
      "needs_background": "light"
     },
     "output_type": "display_data"
    }
   ],
   "source": [
    "plt.plot(np.cumsum(pca.explained_variance_ratio_))\n",
    "plt.xlabel(\"Number of components\")\n",
    "plt.ylabel(\"Explained variance\")"
   ]
  },
  {
   "cell_type": "markdown",
   "metadata": {},
   "source": [
    "Given the above information, we can remodel the PCA to capture 90% of the variability in the data by setting n_components = 0.90. Notice that the result sould yield four principal components."
   ]
  },
  {
   "cell_type": "code",
   "execution_count": 74,
   "metadata": {},
   "outputs": [
    {
     "data": {
      "text/plain": [
       "(1848, 12)"
      ]
     },
     "execution_count": 74,
     "metadata": {},
     "output_type": "execute_result"
    }
   ],
   "source": [
    "pca_90 = PCA(n_components = 0.90, random_state = 2020)\n",
    "pca_90.fit(X_train_scaled)\n",
    "X_train_pca = pca_90.transform(X_train_scaled)\n",
    "\n",
    "X_train_pca.shape"
   ]
  },
  {
   "cell_type": "markdown",
   "metadata": {},
   "source": [
    "Notice that 12 principal components are captured."
   ]
  },
  {
   "cell_type": "markdown",
   "metadata": {},
   "source": [
    "Now we can fit a regression model to this dataset."
   ]
  },
  {
   "cell_type": "code",
   "execution_count": 75,
   "metadata": {},
   "outputs": [
    {
     "data": {
      "text/plain": [
       "array([-0.54036824, -0.29643643,  0.54807996,  0.33001816,  0.19346162,\n",
       "        0.06147791,  0.10657783, -0.18505045,  0.09746657,  0.30441384,\n",
       "        0.05067826, -0.01071785])"
      ]
     },
     "execution_count": 75,
     "metadata": {},
     "output_type": "execute_result"
    }
   ],
   "source": [
    "from sklearn import linear_model\n",
    "\n",
    "# train model\n",
    "pca_model = linear_model.LinearRegression()\n",
    "pca_model.fit(X_train_pca, y_train)          \n",
    "\n",
    "pca_model.coef_"
   ]
  },
  {
   "cell_type": "code",
   "execution_count": 76,
   "metadata": {},
   "outputs": [],
   "source": [
    "# evaluate model"
   ]
  },
  {
   "cell_type": "code",
   "execution_count": 77,
   "metadata": {},
   "outputs": [
    {
     "name": "stdout",
     "output_type": "stream",
     "text": [
      "R-squared: 0.8889\n",
      "predcition error: 0.500911\n"
     ]
    }
   ],
   "source": [
    "# transform X_test set to principal componemts equivalance.\n",
    "X_test_pca = pca_90.transform(X_test_scaled)\n",
    "\n",
    "r_squared = pca_model.score(X_test_pca, y_test)                       # R^2\n",
    "\n",
    "y_predicted = pca_model.predict(X_test_pca)\n",
    "\n",
    "test_error = mean_squared_error(y_test, y_predicted, squared=False)      # Root Mean Sqaured Error\n",
    "\n",
    "\n",
    "print('R-squared' + \":\", round(r_squared, 4))\n",
    "print(\"predcition error:\", round(test_error, 6))\n"
   ]
  },
  {
   "cell_type": "markdown",
   "metadata": {},
   "source": [
    "This model performs worst than non-pca models. Understandably, this model does not account for all the variance in the data."
   ]
  }
 ],
 "metadata": {
  "kernelspec": {
   "display_name": "Python 3",
   "language": "python",
   "name": "python3"
  },
  "language_info": {
   "codemirror_mode": {
    "name": "ipython",
    "version": 3
   },
   "file_extension": ".py",
   "mimetype": "text/x-python",
   "name": "python",
   "nbconvert_exporter": "python",
   "pygments_lexer": "ipython3",
   "version": "3.8.12"
  }
 },
 "nbformat": 4,
 "nbformat_minor": 4
}
